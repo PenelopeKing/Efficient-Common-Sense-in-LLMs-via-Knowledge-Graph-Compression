{
 "cells": [
  {
   "cell_type": "code",
   "execution_count": 1,
   "metadata": {},
   "outputs": [
    {
     "name": "stdout",
     "output_type": "stream",
     "text": [
      "2.5.1+cu124\n"
     ]
    }
   ],
   "source": [
    "import torch\n",
    "print(torch.__version__)"
   ]
  },
  {
   "cell_type": "code",
   "execution_count": null,
   "metadata": {},
   "outputs": [],
   "source": []
  },
  {
   "cell_type": "code",
   "execution_count": 1,
   "metadata": {},
   "outputs": [
    {
     "name": "stderr",
     "output_type": "stream",
     "text": [
      "c:\\Users\\quent\\anaconda3\\envs\\capstone_scratch_2\\lib\\site-packages\\tqdm\\auto.py:21: TqdmWarning: IProgress not found. Please update jupyter and ipywidgets. See https://ipywidgets.readthedocs.io/en/stable/user_install.html\n",
      "  from .autonotebook import tqdm as notebook_tqdm\n"
     ]
    },
    {
     "name": "stdout",
     "output_type": "stream",
     "text": [
      "Loading cpnet...\n",
      "Done\n",
      "Loaded 3947 allowed concept IDs from train/val data.\n",
      "Loading cpnet...\n",
      "Done\n",
      "Loaded 1 allowed concept IDs from train/val data.\n",
      "Loading cpnet...\n",
      "Done\n",
      "Loaded 1 allowed concept IDs from train/val data.\n"
     ]
    }
   ],
   "source": [
    "import argparse\n",
    "import json\n",
    "import os\n",
    "import sys\n",
    "import torch\n",
    "from transformers import BartForConditionalGeneration, BartTokenizer\n",
    "from rouge import Rouge\n",
    "from bleu import Bleu\n",
    "from corpus_diversity import eval_entropy_distinct\n",
    "import time\n",
    "from tqdm import tqdm\n",
    "\n",
    "# Import trainers from their respective files\n",
    "from basic_trainer import get_basic_trainer\n",
    "from KG_trainer_no_comp import get_KG_trainer, generate_explanation_no_comp\n",
    "from KG_trainer_w_transformer_dropout import get_KG_transformer_trainer\n",
    "# from KG_trainer_w_transformer_no_dropout import get_KG_RGCN_trainer\n",
    "from KG_trainer_w_comp import get_KG_RGCN_trainer, get_graph_info, BartGraphAwareForConditionalGeneration\n",
    "\n",
    "\n",
    "from evaluator import evaluate_model\n",
    "import networkx as nx\n",
    "import pickle\n",
    "from torch_geometric.data import Data\n",
    "from torch_geometric.nn import RGCNConv\n",
    "import torch.nn.functional as F\n",
    "from torch.nn import Linear\n",
    "import random\n",
    "import torch.optim as optim"
   ]
  },
  {
   "cell_type": "code",
   "execution_count": 2,
   "metadata": {},
   "outputs": [],
   "source": [
    "with open(\"data-params.json\", \"r\") as f:\n",
    "    config = json.load(f)\n",
    "\n",
    "device = torch.device(\"cuda\" if torch.cuda.is_available() else \"cpu\")"
   ]
  },
  {
   "cell_type": "code",
   "execution_count": null,
   "metadata": {},
   "outputs": [],
   "source": []
  }
 ],
 "metadata": {
  "kernelspec": {
   "display_name": "capstone_scratch_2",
   "language": "python",
   "name": "python3"
  },
  "language_info": {
   "codemirror_mode": {
    "name": "ipython",
    "version": 3
   },
   "file_extension": ".py",
   "mimetype": "text/x-python",
   "name": "python",
   "nbconvert_exporter": "python",
   "pygments_lexer": "ipython3",
   "version": "3.9.21"
  }
 },
 "nbformat": 4,
 "nbformat_minor": 2
}
